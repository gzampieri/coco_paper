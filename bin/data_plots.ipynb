{
 "cells": [
  {
   "cell_type": "markdown",
   "metadata": {},
   "source": [
    "## Preliminaries"
   ]
  },
  {
   "cell_type": "code",
   "execution_count": null,
   "metadata": {},
   "outputs": [],
   "source": [
    "import numpy as np\n",
    "import pandas as pd\n",
    "import matplotlib.pyplot as plt\n",
    "import seaborn as sns\n",
    "import json\n",
    "import os"
   ]
  },
  {
   "cell_type": "markdown",
   "metadata": {},
   "source": [
    "Set paths"
   ]
  },
  {
   "cell_type": "code",
   "execution_count": null,
   "metadata": {},
   "outputs": [],
   "source": [
    "abundance_path = '../data/MAG_coverage.tsv'\n",
    "raw_rna_dir = '../data/transcriptomes/raw/'\n",
    "rna_dir = '../data/transcriptomes/normalised/'\n",
    "test_dir = '../data/models/memote_tests/'\n",
    "abundance_cutoff = 0.01\n",
    "sample_names = ['BH1', 'BH2', 'BH3', 'SAH1', 'SAH2', 'SAH3', 'AH1', 'AH2', 'AH3']"
   ]
  },
  {
   "cell_type": "markdown",
   "metadata": {},
   "source": [
    "Load MAG abundances"
   ]
  },
  {
   "cell_type": "code",
   "execution_count": null,
   "metadata": {},
   "outputs": [],
   "source": [
    "abundance_table = pd.read_table(abundance_path, index_col='Bin Id')\n",
    "abundance_table = abundance_table.iloc[:, abundance_table.columns.str.contains('% community', regex=False)]\n",
    "abundance_table.columns = abundance_table.columns.str.replace('.sorted: % community', '')\n",
    "abundance_table.index = abundance_table.index.str.replace('.fasta', '')\n",
    "abundance_table.columns = sample_names\n",
    "MAG_names = abundance_table.index"
   ]
  },
  {
   "cell_type": "markdown",
   "metadata": {},
   "source": [
    "Load RNA counts and build global RNA tables"
   ]
  },
  {
   "cell_type": "code",
   "execution_count": null,
   "metadata": {},
   "outputs": [],
   "source": [
    "df_list = []\n",
    "df_raw_list = []\n",
    "key_list = []\n",
    "for m in MAG_names:\n",
    "    counts = pd.read_table(rna_path + m + '.csv_rlog', sep=',', index_col='Unnamed: 0')\n",
    "    counts.index = counts.index.str.replace('.faa_', '__')\n",
    "    df_list.append(counts)\n",
    "    raw_counts = pd.read_table(raw_rna_path + m + '.csv', sep=',', index_col='Unnamed: 0')\n",
    "    raw_counts.index = raw_counts.index.str.replace('.faa_', '__')\n",
    "    df_raw_list.append(raw_counts)\n",
    "    key_list.append(m)\n",
    "rna_table = pd.concat(df_list, axis=0, keys=key_list)\n",
    "raw_rna_table = pd.concat(df_raw_list, axis=0, keys=key_list)\n",
    "rna_table.columns = sample_names\n",
    "raw_rna_table.columns = sample_names"
   ]
  },
  {
   "cell_type": "markdown",
   "metadata": {},
   "source": [
    "Sum RNA abundances"
   ]
  },
  {
   "cell_type": "code",
   "execution_count": null,
   "metadata": {},
   "outputs": [],
   "source": [
    "raw_rna_sum_table = pd.DataFrame(index=MAG_names, columns=sample_names)\n",
    "rna_sum_table = pd.DataFrame(index=MAG_names, columns=sample_names)\n",
    "for s in sample_names:\n",
    "    count_sums = raw_rna_table[s].sum(axis=0, level=0)\n",
    "    raw_rna_sum_table.loc[:, s] = np.log10(count_sums) # log10 for visualisation purposes\n",
    "    count_sums = rna_table[s].sum(axis=0, level=0)\n",
    "    rna_sum_table.loc[:, s] = np.log(count_sums) # ln for filtering purposes\n",
    "rna_sum_table = rna_sum_table.divide(rna_sum_table.sum(axis=0))"
   ]
  },
  {
   "cell_type": "markdown",
   "metadata": {},
   "source": [
    "Combine nucleic acid abundances"
   ]
  },
  {
   "cell_type": "code",
   "execution_count": null,
   "metadata": {},
   "outputs": [],
   "source": [
    "multiomic_abundance_table = np.multiply(abundance_table, rna_sum_table)\n",
    "multiomic_abundance_table = multiomic_abundance_table.divide(multiomic_abundance_table.sum(axis=0))"
   ]
  },
  {
   "cell_type": "markdown",
   "metadata": {},
   "source": [
    "Get MAG names for abundant species"
   ]
  },
  {
   "cell_type": "code",
   "execution_count": null,
   "metadata": {},
   "outputs": [],
   "source": [
    "MAG_names = []\n",
    "for s in sample_names:\n",
    "    MAG_names.extend(list(abundance_table.index[multiomic_abundance_table[s] >= abundance_cutoff]))\n",
    "MAG_names = np.unique(MAG_names)"
   ]
  },
  {
   "cell_type": "markdown",
   "metadata": {},
   "source": [
    "Subset DNA and RNA tables"
   ]
  },
  {
   "cell_type": "code",
   "execution_count": null,
   "metadata": {},
   "outputs": [],
   "source": [
    "abundance_table = abundance_table.loc[MAG_names, :]\n",
    "rna_table = rna_table.loc[MAG_names, :]\n",
    "full_raw_rna_sum_table = raw_rna_sum_table\n",
    "raw_rna_sum_table = raw_rna_sum_table.loc[MAG_names, :]"
   ]
  },
  {
   "cell_type": "markdown",
   "metadata": {},
   "source": [
    "Rename MAGs with taxonomic associations"
   ]
  },
  {
   "cell_type": "code",
   "execution_count": null,
   "metadata": {},
   "outputs": [],
   "source": [
    "taxa = ['Aneurinibacillaceae sp.', 'Firmicutes sp. 2', 'Acetivibrionaceae sp.', \\\n",
    "    'Bacteroidales sp. 1', 'Limnochordia sp. 2', 'C. proteolyticus', \\\n",
    "    'Bacteroidales sp. 2', 'Methanothermobacter sp.', 'Firmicutes sp. 1', \\\n",
    "    'Firmicutes sp. 3', 'Lutisporaceae sp.', 'Methanobacterium sp.', \\\n",
    "    'Competibacteraceae sp.', 'Firmicutes sp. 6', 'Acetomicrobium sp. 2', \\\n",
    "    'Acetomicrobium flavidum', 'Methanosarcina sp.', 'Tepidiphilus sp.', \\\n",
    "    'Defluviitoga tunisiensis', 'Firmicutes sp. 7', 'Oscillospirales sp. 2', \\\n",
    "    'Methanoculleus sp.', 'Firmicutes sp. 5', 'Thermodesulfovibrio sp.', 'Acetomicrobium sp. 1', \\\n",
    "    'Oscillospirales sp. 1', 'Firmicutes sp. 4', 'Limnochordia sp. 1']\n",
    "MAG_dict = pd.Series(taxa, index=['bin_10_operams', 'bin_10_unicycler', 'bin_13_unicycler',\n",
    "       'bin_15_metaspades', 'bin_15_operams', 'bin_16_metaspades',\n",
    "       'bin_19_unicycler', 'bin_23_metaspades', 'bin_24_unicycler',\n",
    "       'bin_25_unicycler', 'bin_26_metaspades', 'bin_26_operams',\n",
    "       'bin_2_unicycler', 'bin_31_metaspades', 'bin_35_metaspades',\n",
    "       'bin_36_metaspades', 'bin_37_operams', 'bin_43_metaspades',\n",
    "       'bin_4_operams', 'bin_50_metaspades', 'bin_51_operams',\n",
    "       'bin_57_operams', 'bin_58_operams', 'bin_5_unicycler', 'bin_64_operams',\n",
    "       'bin_7_metaspades', 'bin_7_unicycler', 'bin_9_metaspades'])\n",
    "abundance_table.index = list(MAG_dict[abundance_table.index])\n",
    "raw_rna_sum_table.index = list(MAG_dict[raw_rna_sum_table.index])\n",
    "sort_idx = abundance_table.mean(axis=1).argsort()\n",
    "abundance_table = abundance_table.iloc[sort_idx[::-1], :]\n",
    "raw_rna_sum_table = raw_rna_sum_table.iloc[sort_idx[::-1], :]"
   ]
  },
  {
   "cell_type": "markdown",
   "metadata": {},
   "source": [
    "## Plots"
   ]
  },
  {
   "cell_type": "markdown",
   "metadata": {},
   "source": [
    "MAG abundances"
   ]
  },
  {
   "cell_type": "code",
   "execution_count": null,
   "metadata": {},
   "outputs": [],
   "source": [
    "plt.clf()\n",
    "plt.cla()\n",
    "sns.set_context(\"paper\")\n",
    "fig, axes = plt.subplots(2, 3, figsize=(6, 7), sharex='col', gridspec_kw={'height_ratios': [1, 10], \\\n",
    "    'width_ratios': [4.5, 3, 0.2], 'hspace': 0.02})\n",
    "axes[0,0].axis('off')\n",
    "axes[1,0].axis('off')\n",
    "axes[0,2].axis('off')\n",
    "axes[0,1].bar(range(9)+np.array([0.5]*9), abundance_table.sum(), align='center', color=[0.015, 0.282, 0.121])\n",
    "axes[0,1].set_xlabel('')\n",
    "axes[0,1].set_ylabel('Total')\n",
    "axes[0,1].tick_params(axis='x', bottom=False)\n",
    "axes[0,1].set_yticks([0, 90])\n",
    "axes[0,1].set_yticklabels(['0', '90%'])\n",
    "sns.heatmap(abundance_table, vmin=0, vmax=35, cmap='Greens', square=True, ax=axes[1,1], cbar_ax=axes[1,2], \\\n",
    "    cbar_kws={\"orientation\": \"vertical\", \"shrink\": .4, 'format': '%.0f%%', 'ticks': [0, 35], 'label': 'Coverage'}) # cmap=cmap, annot=True,\n",
    "axes[1,1].set_ylabel('')\n",
    "axes[1,2].set_aspect(10)\n",
    "# make frame visible\n",
    "for _, spine in axes[1,1].spines.items():\n",
    "    spine.set_visible(True)"
   ]
  },
  {
   "cell_type": "markdown",
   "metadata": {},
   "source": [
    "RNA counts"
   ]
  },
  {
   "cell_type": "code",
   "execution_count": null,
   "metadata": {},
   "outputs": [],
   "source": [
    "plt.clf()\n",
    "plt.cla()\n",
    "sns.set_context(\"paper\")\n",
    "fig, axes = plt.subplots(2, 3, figsize=(6, 7), sharex='col', gridspec_kw={'height_ratios': [1, 10], \\\n",
    "    'width_ratios': [4.5, 3, 0.2], 'hspace': 0.02})\n",
    "axes[0,0].axis('off')\n",
    "axes[1,0].axis('off')\n",
    "axes[0,2].axis('off')\n",
    "axes[0,1].bar(range(9)+np.array([0.5]*9), 100*raw_rna_sum_table.sum().div(raw_rna_sum_table.sum()), align='center', color=[0.044, 0.15, 0.28])\n",
    "axes[0,1].set_xlabel('')\n",
    "axes[0,1].set_ylabel('Total')\n",
    "axes[0,1].tick_params(axis='x', bottom=False)\n",
    "axes[0,1].set_yticks([0, 90])\n",
    "axes[0,1].set_yticklabels(['0', '90%'])\n",
    "sns.heatmap(raw_rna_sum_table, cmap='Blues', square=True, ax=axes[1,1], cbar_ax=axes[1,2], \\\n",
    "    cbar_kws={\"orientation\": \"vertical\", \"shrink\": .4, 'ticks': [1, 3, 5, 7], 'label': 'Count sum (log10)'}) # cmap=cmap, annot=True,\n",
    "axes[1,1].set_ylabel('')\n",
    "axes[1,2].set_aspect(10)\n",
    "# make frame visible\n",
    "for _, spine in axes[1,1].spines.items():\n",
    "    spine.set_visible(True)"
   ]
  },
  {
   "cell_type": "markdown",
   "metadata": {},
   "source": [
    "MEMOTE test results"
   ]
  },
  {
   "cell_type": "code",
   "execution_count": null,
   "metadata": {},
   "outputs": [],
   "source": [
    "result_df = pd.DataFrame(columns=['model', 'test', 'score'])\n",
    "json_files = [f for f in os.listdir(test_dir) if \".json\" in f]\n",
    "for f in json_files:\n",
    "    print(f + ': ')\n",
    "    with open(test_dir + f) as json_file:\n",
    "        data = json.load(json_file)\n",
    "    for t in data['tests'].keys():\n",
    "        if isinstance(data['tests'][t]['data'], list):\n",
    "            result_df = result_df.append(pd.DataFrame({'model': [f.strip('.json')], \\\n",
    "                'Test': [t], \n",
    "                'Score': [data['tests'][t]['metric']], \n",
    "                'Data': [len(data['tests'][t]['data'])],\n",
    "                'Title': [data['tests'][t]['title']]}), ignore_index=True)\n",
    "        else:\n",
    "            result_df = result_df.append(pd.DataFrame({'model': [f.strip('.json')], \\\n",
    "                'Test': [t], \n",
    "                'Score': [data['tests'][t]['metric']], \n",
    "                'Data': [0],\n",
    "                'Title': [data['tests'][t]['title']]}), ignore_index=True)\n",
    "idx = [type(result_df.loc[i, 'Score']) is float for i in range(len(result_df['Score']))]\n",
    "result_df = result_df.loc[idx, :]\n",
    "result_df['Score'] = pd.to_numeric(result_df['Score'])\n",
    "result_df['x'] = ['This study']*len(result_df['Score'])\n",
    "\n",
    "# exclude non-relevant tests\n",
    "excluded_tests = ['test_absolute_extreme_coefficient_ratio', \\\n",
    "    'test_biomass_presence', \n",
    "    'test_biomass_specific_sbo_presence',\n",
    "    'test_compartments_presence',\n",
    "    'test_degrees_of_freedom',\n",
    "    'test_demand_specific_sbo_presence',\n",
    "    'test_exchange_specific_sbo_presence',\n",
    "    'test_fbc_presence',\n",
    "    'test_find_constrained_pure_metabolic_reactions',\n",
    "    'test_find_constrained_transport_reactions',\n",
    "    'test_find_duplicate_metabolites_in_compartments',\n",
    "    'test_find_duplicate_reactions',\n",
    "    'test_find_reactions_with_identical_genes',\n",
    "    'test_find_reactions_with_partially_identical_annotations',\n",
    "    'test_find_reversible_oxygen_reactions',\n",
    "    'test_find_unique_metabolites',\n",
    "    'test_gene_product_annotation_presence',\n",
    "    'test_gene_protein_reaction_rule_presence',\n",
    "    'test_gene_sbo_presence',\n",
    "    'test_gene_specific_sbo_presence',\n",
    "    'test_matrix_rank',\n",
    "    'test_metabolic_reaction_specific_sbo_presence',\n",
    "    'test_metabolite_annotation_presence',\n",
    "    'test_metabolite_id_namespace_consistency',\n",
    "    'test_metabolite_sbo_presence',\n",
    "    'test_metabolite_specific_sbo_presence',\n",
    "    'test_model_id_presence',\n",
    "    'test_ngam_presence',\n",
    "    'test_number_independent_conservation_relations',\n",
    "    'test_protein_complex_presence',\n",
    "    'test_reaction_annotation_presence',\n",
    "    'test_reaction_id_namespace_consistency',\n",
    "    'test_reaction_sbo_presence',\n",
    "    'test_sbml_level',\n",
    "    'test_sink_specific_sbo_presence',\n",
    "    'test_transport_reaction_gpr_presence',\n",
    "    'test_transport_reaction_specific_sbo_presence']\n",
    "result_df = result_df.loc[~result_df['Test'].isin(excluded_tests), :]\n",
    "# ensure relevant information\n",
    "result_df.loc[result_df['Test']=='test_find_medium_metabolites', 'Score'] = \\\n",
    "    result_df.loc[result_df['Test']=='test_find_medium_metabolites', 'Data']\n",
    "result_df.loc[result_df['Test']=='test_metabolites_presence', 'Score'] = \\\n",
    "    result_df.loc[result_df['Test']=='test_metabolites_presence', 'Data']\n",
    "result_df.loc[result_df['Test']=='test_reactions_presence', 'Score'] = \\\n",
    "    result_df.loc[result_df['Test']=='test_reactions_presence', 'Data']\n",
    "result_df.loc[result_df['Test']=='test_genes_presence', 'Score'] = \\\n",
    "    result_df.loc[result_df['Test']=='test_genes_presence', 'Data']\n",
    "\n",
    "plt.clf()\n",
    "plt.cla()\n",
    "sns.set_context(\"paper\")\n",
    "p = sns.catplot(data=result_df, x='x', y='Score', col='Title', kind='violin', \\\n",
    "    col_wrap=5, height=2, aspect=1.5, sharey=False)\n",
    "for i in range(len(p.axes)):\n",
    "    ax = p.axes[i]\n",
    "    ax.set_xlabel('')\n",
    "    ax.set(xticklabels=[])\n",
    "    ax.tick_params(bottom=False)\n",
    "p.set_titles(\"{col_name}\")"
   ]
  }
 ],
 "metadata": {
  "interpreter": {
   "hash": "5ed6376b18e7634873c6ac370ba99f10b16df77a55766a7c88588edd86bf614a"
  },
  "kernelspec": {
   "display_name": "Python 3.6.12 ('py36')",
   "language": "python",
   "name": "python3"
  },
  "language_info": {
   "name": "python",
   "version": "3.6.12"
  },
  "orig_nbformat": 4
 },
 "nbformat": 4,
 "nbformat_minor": 2
}
